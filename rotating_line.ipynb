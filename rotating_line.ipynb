{
 "cells": [
  {
   "cell_type": "code",
   "execution_count": 1,
   "metadata": {},
   "outputs": [],
   "source": [
    "import bqplot.pyplot as pl\n",
    "from ipywidgets import interact, interactive, fixed, interact_manual\n",
    "import ipywidgets as widgets\n",
    "from ipywidgets import Accordion, IntSlider, FloatSlider, HTMLMath, Dropdown, Box, HBox, VBox, Layout, Play, jslink\n",
    "from IPython.display import display\n",
    "import math\n",
    "import numpy as np"
   ]
  },
  {
   "cell_type": "code",
   "execution_count": 2,
   "metadata": {},
   "outputs": [
    {
     "data": {
      "text/plain": [
       "LinearScale(max=1.0, min=-1.0)"
      ]
     },
     "execution_count": 2,
     "metadata": {},
     "output_type": "execute_result"
    }
   ],
   "source": [
    "plot_rotation = pl.figure()\n",
    "pl.clear()\n",
    "# Define center point\n",
    "pt = np.array([0,0])\n",
    "# Plot a horizontal line\n",
    "line = pl.plot([pt[0]-1,pt[0]+1], [pt[1],pt[1]], lw=1.5, colors = [\"#6699cc\"])\n",
    "pl.xlim(-1,1)\n",
    "pl.ylim(-1,1)"
   ]
  },
  {
   "cell_type": "code",
   "execution_count": 3,
   "metadata": {},
   "outputs": [],
   "source": [
    "# Define function that will rotate the line, given a specific angle\n",
    "def animate_line(rot_deg):\n",
    "    global pt\n",
    "    dangle = 0.1 # Incremental angle, in degrees\n",
    "    # We use polar coordinates\n",
    "    radius = 1    \n",
    "    theta = math.radians(rot_deg*dangle) # Converts to radians\n",
    "    # Define coordinates.\n",
    "    x = radius*math.cos(theta)\n",
    "    y = radius*math.sin(theta)\n",
    "    # Create symmetric point with respect to center\n",
    "    x2 = -radius*math.cos(theta)\n",
    "    y2 = -radius*math.sin(theta)\n",
    "    # Update line coordinates \n",
    "    line.x = [x2,x]\n",
    "    line.y = [y2,y]\n",
    "    return line"
   ]
  },
  {
   "cell_type": "code",
   "execution_count": 4,
   "metadata": {},
   "outputs": [],
   "source": [
    "angle_widget = widgets.IntSlider(min=0, max=7200, step=10, value=0, description = \"$\\\\theta$*10\", continuous_update=True)\n",
    "play_button_angle = Play(min=0, max=7200, step=5, interval=10)\n",
    "jslink((play_button_angle, 'value'), (angle_widget, 'value'))"
   ]
  },
  {
   "cell_type": "code",
   "execution_count": 5,
   "metadata": {},
   "outputs": [],
   "source": [
    "# Define function to be called when the angle is changed\n",
    "def on_change_rot(change):\n",
    "    _ = animate_line(rot_deg=angle_widget.value)\n",
    "    \n",
    "angle_widget.observe(on_change_rot, names='value', type='change')"
   ]
  },
  {
   "cell_type": "code",
   "execution_count": 6,
   "metadata": {},
   "outputs": [
    {
     "data": {
      "application/vnd.jupyter.widget-view+json": {
       "model_id": "e975b266657e4529884d612b5a5f344c",
       "version_major": 2,
       "version_minor": 0
      },
      "text/plain": [
       "Box(children=(HBox(children=(Play(value=0, interval=10, max=7200, step=5), IntSlider(value=0, description='$\\\\…"
      ]
     },
     "metadata": {},
     "output_type": "display_data"
    },
    {
     "data": {
      "application/vnd.jupyter.widget-view+json": {
       "model_id": "d95b3f9b172e48119952f3078736e2a0",
       "version_major": 2,
       "version_minor": 0
      },
      "text/plain": [
       "HBox(children=(Figure(axes=[Axis(scale=LinearScale(max=1.0, min=-1.0)), Axis(orientation='vertical', scale=Lin…"
      ]
     },
     "metadata": {},
     "output_type": "display_data"
    }
   ],
   "source": [
    "display(Box([\n",
    "        HBox([play_button_angle,angle_widget], layout=Layout(justify_content='center',width='905px'))],\n",
    "        layout=Layout(width='100%', flex_flow='row wrap', display='flex')))\n",
    "display(HBox([plot_rotation]),layout=Layout(justify_content='center',width='905px'))"
   ]
  },
  {
   "cell_type": "code",
   "execution_count": null,
   "metadata": {},
   "outputs": [],
   "source": []
  },
  {
   "cell_type": "code",
   "execution_count": null,
   "metadata": {},
   "outputs": [],
   "source": []
  }
 ],
 "metadata": {
  "kernelspec": {
   "display_name": "Python 3",
   "language": "python",
   "name": "python3"
  },
  "language_info": {
   "codemirror_mode": {
    "name": "ipython",
    "version": 3
   },
   "file_extension": ".py",
   "mimetype": "text/x-python",
   "name": "python",
   "nbconvert_exporter": "python",
   "pygments_lexer": "ipython3",
   "version": "3.7.3"
  }
 },
 "nbformat": 4,
 "nbformat_minor": 2
}
